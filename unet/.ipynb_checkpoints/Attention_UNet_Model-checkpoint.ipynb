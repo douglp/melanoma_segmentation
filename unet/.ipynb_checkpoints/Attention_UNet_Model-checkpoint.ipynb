{
 "cells": [
  {
   "cell_type": "markdown",
   "metadata": {},
   "source": [
    "# Initialize Folders"
   ]
  },
  {
   "cell_type": "code",
   "execution_count": 1,
   "metadata": {
    "scrolled": true
   },
   "outputs": [
    {
     "name": "stderr",
     "output_type": "stream",
     "text": [
      "Using TensorFlow backend.\n"
     ]
    }
   ],
   "source": [
    "from __future__ import print_function\n",
    "from imutils import paths\n",
    "import os\n",
    "import matplotlib.pyplot as plt\n",
    "import matplotlib\n",
    "import numpy as np\n",
    "import keras\n",
    "import tensorflow as tf\n",
    "from keras.preprocessing import image as image_utils\n",
    "from keras.preprocessing.image import load_img\n",
    "from keras.preprocessing.image import img_to_array\n",
    "from keras.preprocessing.image import array_to_img\n",
    "from keras.preprocessing.image import ImageDataGenerator\n",
    "from keras.models import *\n",
    "from keras.layers import *\n",
    "from keras.optimizers import *\n",
    "from keras.callbacks import ModelCheckpoint, LearningRateScheduler, TensorBoard\n",
    "#from keras import backend as keras\n",
    "from keras.layers.advanced_activations import LeakyReLU, PReLU\n",
    "\n",
    "\n",
    "#import skimage.io as io\n",
    "#import skimage.transform as trans\n",
    "\n",
    "#K.set_image_data_format(\"channels_last\")\n",
    "\n",
    "%matplotlib inline\n",
    "%load_ext autoreload\n",
    "%autoreload 2\n"
   ]
  },
  {
   "cell_type": "code",
   "execution_count": 2,
   "metadata": {},
   "outputs": [],
   "source": [
    "root_dir = './data'\n",
    "training_data_dir = os.path.join(root_dir, 'train/images')\n",
    "training_data_mask_dir = os.path.join(root_dir, 'train/masks')\n",
    "\n",
    "val_data_dir = os.path.join(root_dir, 'val/images')\n",
    "val_data_pred_dir = os.path.join(root_dir, 'val/predict')\n",
    "val_data_mask_dir = os.path.join(root_dir, 'val/masks')\n",
    "\n",
    "test_data_dir = os.path.join(root_dir, 'test/images')\n",
    "test_data_pred_dir = os.path.join(root_dir, 'test/predict')\n",
    "test_data_mask_dir = os.path.join(root_dir, 'test/masks')\n",
    "\n",
    "img_rows = 256\n",
    "img_cols = 256"
   ]
  },
  {
   "cell_type": "markdown",
   "metadata": {},
   "source": [
    "# Define Loss function"
   ]
  },
  {
   "cell_type": "code",
   "execution_count": 3,
   "metadata": {},
   "outputs": [],
   "source": [
    "def jaccard_coef(y_true, y_pred):\n",
    "    smooth = 1.\n",
    "    y_true_f = K.flatten(y_true)\n",
    "    y_pred_f = K.flatten(y_pred)\n",
    "    intersection = K.sum(y_true_f * y_pred_f)\n",
    "    return (intersection + smooth) / (K.sum(y_true_f) + K.sum(y_pred_f) - intersection + smooth)\n",
    "\n",
    "def jaccard_coef_loss(y_true, y_pred):\n",
    "    j = -jaccard_coef(y_true, y_pred)\n",
    "    return j"
   ]
  },
  {
   "cell_type": "code",
   "execution_count": 4,
   "metadata": {},
   "outputs": [],
   "source": [
    "def normalizeData_rgb(img,mask):\n",
    "    for i in range(3):\n",
    "        mean = np.mean(img[:,:,i])  # mean for data centering\n",
    "        std = np.std(img[:,:,i])  # std for data normalization\n",
    "        img[:,:,i] -= mean\n",
    "        img[:,:,i] /= std\n",
    "    mask = mask /255\n",
    "    mask[mask > 0.5] = 1\n",
    "    mask[mask <= 0.5] = 0\n",
    "    return (img,mask)"
   ]
  },
  {
   "cell_type": "code",
   "execution_count": 5,
   "metadata": {},
   "outputs": [],
   "source": [
    "def normalizeData(img,mask):\n",
    "    mean = np.mean(img)  # mean for data centering\n",
    "    std = np.std(img)  # std for data normalization\n",
    "    img -= mean\n",
    "    img /= std\n",
    "    mask = mask /255\n",
    "    mask[mask > 0.5] = 1\n",
    "    mask[mask <= 0.5] = 0\n",
    "    return (img,mask)"
   ]
  },
  {
   "cell_type": "code",
   "execution_count": 6,
   "metadata": {},
   "outputs": [],
   "source": [
    "def trainGenerator(batch_size,train_path,image_folder,mask_folder,aug_dict,image_color_mode = \"rgb\",\n",
    "                    mask_color_mode = \"grayscale\",image_save_prefix  = \"image\",mask_save_prefix  = \"mask\",\n",
    "                    flag_multi_class = False,num_class = 2,save_to_dir = None,target_size = (256,256),seed = 1):\n",
    "    '''\n",
    "    can generate image and mask at the same time\n",
    "    use the same seed for image_datagen and mask_datagen to ensure the transformation for image and mask is the same\n",
    "    if you want to visualize the results of generator, set save_to_dir = \"your path\"\n",
    "    '''\n",
    "    image_datagen = ImageDataGenerator(**aug_dict)\n",
    "    mask_datagen = ImageDataGenerator(**aug_dict)\n",
    "    image_generator = image_datagen.flow_from_directory(\n",
    "        train_path,\n",
    "        classes = [image_folder],\n",
    "        class_mode = None,\n",
    "        color_mode = image_color_mode,\n",
    "        target_size = target_size,\n",
    "        batch_size = batch_size,\n",
    "        save_to_dir = save_to_dir,\n",
    "        save_prefix  = image_save_prefix,\n",
    "        seed = seed)\n",
    "    mask_generator = mask_datagen.flow_from_directory(\n",
    "        train_path,\n",
    "        classes = [mask_folder],\n",
    "        class_mode = None,\n",
    "        color_mode = mask_color_mode,\n",
    "        target_size = target_size,\n",
    "        batch_size = batch_size,\n",
    "        save_to_dir = save_to_dir,\n",
    "        save_prefix  = mask_save_prefix,\n",
    "        seed = seed)\n",
    "    train_generator = zip(image_generator, mask_generator)\n",
    "    for (img,mask) in train_generator:\n",
    "        img,mask = normalizeData_rgb(img,mask)\n",
    "        yield (img,mask)"
   ]
  },
  {
   "cell_type": "code",
   "execution_count": 7,
   "metadata": {},
   "outputs": [],
   "source": [
    "def validationGenerator(batch_size,train_path,image_folder,mask_folder,aug_dict,image_color_mode = \"rgb\",\n",
    "                    mask_color_mode = \"grayscale\",image_save_prefix  = \"image\",mask_save_prefix  = \"mask\",\n",
    "                    flag_multi_class = False,num_class = 2,save_to_dir = None,target_size = (256,256),seed = 1):\n",
    "    '''\n",
    "    can generate image and mask at the same time\n",
    "    use the same seed for image_datagen and mask_datagen to ensure the transformation for image and mask is the same\n",
    "    if you want to visualize the results of generator, set save_to_dir = \"your path\"\n",
    "    '''\n",
    "    image_datagen = ImageDataGenerator(**aug_dict)\n",
    "    mask_datagen = ImageDataGenerator(**aug_dict)\n",
    "    image_generator = image_datagen.flow_from_directory(\n",
    "        train_path,\n",
    "        classes = [image_folder],\n",
    "        class_mode = None,\n",
    "        color_mode = image_color_mode,\n",
    "        target_size = target_size,\n",
    "        batch_size = batch_size,\n",
    "        save_to_dir = save_to_dir,\n",
    "        save_prefix  = image_save_prefix,\n",
    "        seed = seed)\n",
    "    mask_generator = mask_datagen.flow_from_directory(\n",
    "        train_path,\n",
    "        classes = [mask_folder],\n",
    "        class_mode = None,\n",
    "        color_mode = mask_color_mode,\n",
    "        target_size = target_size,\n",
    "        batch_size = batch_size,\n",
    "        save_to_dir = save_to_dir,\n",
    "        save_prefix  = mask_save_prefix,\n",
    "        seed = seed)\n",
    "    train_generator = zip(image_generator, mask_generator)\n",
    "    for (img,mask) in train_generator:\n",
    "        img,mask = normalizeData_rgb(img,mask)\n",
    "        yield (img,mask)"
   ]
  },
  {
   "cell_type": "code",
   "execution_count": 8,
   "metadata": {},
   "outputs": [],
   "source": [
    "def BiggerLeakyUnetModel():\n",
    "    inputs = Input((img_rows, img_cols,3))\n",
    "    conv1 = Conv2D(32, (3, 3), padding=\"same\")(inputs)\n",
    "    acti1 = LeakyReLU(alpha=0.001)(conv1)\n",
    "    conv1 = Conv2D(32, (3, 3), padding=\"same\")(acti1)\n",
    "    acti1 = LeakyReLU(alpha=0.001)(conv1)\n",
    "    pool1 = MaxPooling2D(pool_size=(2, 2))(acti1)\n",
    "\n",
    "    conv2 = Conv2D(64, (3, 3), padding=\"same\")(pool1)\n",
    "    acti2 = LeakyReLU(alpha=0.001)(conv2)\n",
    "    conv2 = Conv2D(64, (3, 3), padding=\"same\")(acti2)\n",
    "    acti2 = LeakyReLU(alpha=0.001)(conv2)\n",
    "    pool2 = MaxPooling2D(pool_size=(2, 2))(acti2)\n",
    "\n",
    "    conv3 = Conv2D(128, (3, 3), padding=\"same\")(pool2)\n",
    "    acti3 = LeakyReLU(alpha=0.001)(conv3)\n",
    "    conv3 = Conv2D(128, (3, 3), padding=\"same\")(acti3)\n",
    "    acti3 = LeakyReLU(alpha=0.001)(conv3)\n",
    "    pool3 = MaxPooling2D(pool_size=(2, 2))(acti3)\n",
    "\n",
    "    conv4 = Conv2D(256, (3, 3), padding=\"same\")(pool3)\n",
    "    acti4 = LeakyReLU(alpha=0.001)(conv4)\n",
    "    conv4 = Conv2D(256, (3, 3), padding=\"same\")(acti4)\n",
    "    acti4 = LeakyReLU(alpha=0.001)(conv4)\n",
    "    pool4 = MaxPooling2D(pool_size=(2, 2))(acti4)\n",
    "\n",
    "    conv5 = Conv2D(512, (3, 3), padding=\"same\")(pool4)\n",
    "    acti5 = LeakyReLU(alpha=0.001)(conv5)\n",
    "    conv5 = Conv2D(512, (3, 3), padding=\"same\")(acti5)\n",
    "    acti5 = LeakyReLU(alpha=0.001)(conv5)\n",
    "    pool5 = MaxPooling2D(pool_size=(2, 2))(acti5)\n",
    "\n",
    "    conv6 = Conv2D(1024, (3, 3), padding=\"same\")(pool5)\n",
    "    acti6 = LeakyReLU(alpha=0.001)(conv6)\n",
    "    conv6 = Conv2D(1024, (3, 3), padding=\"same\")(acti6)\n",
    "    acti6 = LeakyReLU(alpha=0.001)(conv6)\n",
    "    pool6 = MaxPooling2D(pool_size=(2, 2))(acti6)\n",
    "    \n",
    "    conv7 = Conv2D(2048, (3, 3), padding=\"same\")(pool6)\n",
    "    acti7 = LeakyReLU(alpha=0.001)(conv7)\n",
    "    conv7 = Conv2D(2048, (3, 3), padding=\"same\")(acti7)\n",
    "    acti7 = LeakyReLU(alpha=0.001)(conv7)\n",
    "\n",
    "    right_up6 = Concatenate([UpSampling2D(size=(2, 2))(acti7), acti6], axis=3)\n",
    "    right_conv6 = Conv2D(512, (3, 3), padding=\"same\")(right_up6)\n",
    "    right_acti6 = LeakyReLU(alpha=0.001)(right_conv6)\n",
    "    right_conv6 = Conv2D(512, (3, 3), padding=\"same\")(right_acti6)\n",
    "    right_acti6 = LeakyReLU(alpha=0.001)(right_conv6)\n",
    "\n",
    "    right_up5 = Concatenate([UpSampling2D(size=(2, 2))(right_acti6), acti5], axis=3)\n",
    "    right_conv5 = Conv2D(512, (3, 3), padding=\"same\")(right_up5)\n",
    "    right_acti5 = LeakyReLU(alpha=0.001)(right_conv5)\n",
    "    right_conv5 = Conv2D(512, (3, 3), padding=\"same\")(right_acti5)\n",
    "    right_acti5 = LeakyReLU(alpha=0.001)(right_conv5)\n",
    "\n",
    "    right_up4 = Concatenate([UpSampling2D(size=(2, 2))(right_acti5), acti4], axis=3)\n",
    "    right_conv4 = Conv2D(256, (3, 3), padding=\"same\")(right_up4)\n",
    "    right_acti4 = LeakyReLU(alpha=0.001)(right_conv4)\n",
    "    right_conv4 = Conv2D(256, (3, 3), padding=\"same\")(right_acti4)\n",
    "    right_acti4 = LeakyReLU(alpha=0.001)(right_conv4)\n",
    "\n",
    "    right_up3 = Concatenate([UpSampling2D(size=(2, 2))(right_acti4), acti3], axis=3)\n",
    "    right_conv3 = Conv2D(128, (3, 3), padding=\"same\")(right_up3)\n",
    "    right_acti3 = LeakyReLU(alpha=0.001)(right_conv3)\n",
    "    right_conv3 = Conv2D(128, (3, 3), padding=\"same\")(right_acti3)\n",
    "    right_acti3 = LeakyReLU(alpha=0.001)(right_conv3)\n",
    "\n",
    "    right_up2 = Concatenate([UpSampling2D(size=(2, 2))(right_acti3), acti2], axis=3)\n",
    "    right_conv2 = Conv2D(64, (3, 3), padding=\"same\")(right_up2)\n",
    "    right_acti2 = LeakyReLU(alpha=0.001)(right_conv2)\n",
    "    right_conv2 = Conv2D(64, (3, 3), padding=\"same\")(right_acti2)\n",
    "    right_acti2 = LeakyReLU(alpha=0.001)(right_conv2)\n",
    "\n",
    "    right_up1 = Concatenate([UpSampling2D(size=(2, 2))(right_acti2), acti1], axis=3)\n",
    "    right_conv1 = Conv2D(32, (3, 3), padding=\"same\")(right_up1)\n",
    "    right_acti1 = LeakyReLU(alpha=0.001)(right_conv1)\n",
    "    right_conv1 = Conv2D(32, (3, 3), padding=\"same\")(right_acti1)\n",
    "    right_acti1 = LeakyReLU(alpha=0.001)(right_conv1)\n",
    "\n",
    "    output = Conv2D(1, (1, 1), activation='sigmoid')(right_acti1)\n",
    "\n",
    "    model = Model(input=inputs, output=output)\n",
    "\n",
    "    model.compile(optimizer=Adam(lr=5e-5), loss=jaccard_coef_loss, metrics=[jaccard_coef])\n",
    "\n",
    "    return model"
   ]
  },
  {
   "cell_type": "markdown",
   "metadata": {},
   "source": [
    "# Define UNet Network"
   ]
  },
  {
   "cell_type": "code",
   "execution_count": 9,
   "metadata": {},
   "outputs": [],
   "source": [
    "def conv_block(prevlayer, ch_out, prefix, strides=(1, 1)):\n",
    "    conv = Conv2D(ch_out, (3, 3), padding=\"same\", kernel_initializer=\"he_normal\", strides=strides, name=prefix + \"1_conv\")(prevlayer)\n",
    "    conv = BatchNormalization(name=prefix + \"1_bn\")(conv)\n",
    "    conv = LeakyReLU(alpha=0.001, name=prefix + \"1_activation\")(conv)\n",
    "    conv = Conv2D(ch_out, (3, 3), padding=\"same\", kernel_initializer=\"he_normal\", strides=strides, name=prefix + \"2_conv\")(conv)\n",
    "    conv = BatchNormalization(name=prefix + \"1_bn\")(conv)\n",
    "    conv = LeakyReLU(alpha=0.001, name=prefix + \"1_activation\")(conv)\n",
    "    return conv\n",
    "\n",
    "def double_block(prevlayer, filters, prefix, strides=(1, 1)):\n",
    "    layer1 = conv_block(prevlayer, filters, prefix+\"1\", strides)\n",
    "    layer2 = conv_block(layer1   , filters, prefix+\"2\", strides)\n",
    "    return layer2\n",
    "\n",
    "def up_sampling_block(up_sampling_layer, left_skip_layer, filters, prefix, strides = (1,1)):\n",
    "    up_layer = Concatenate([UpSampling2D(size=(2, 2))(up_sampling_layer), left_skip_layer], axis=3)\n",
    "    double_block_layer = double_block(up_layer, filters, prefix, strides)\n",
    "    return double_block_layer\n",
    "\n",
    "def attention_block(direct_layer, left_skip_layer, filters, prefix, kernel=(1,1), strides=(1,1)):\n",
    "    conv_skip = Conv2D(filters, kernel, kernel_initializer=\"he_normal\", strides=strides, name=prefix + \"skip_conv\")(left_skip_layer)\n",
    "    # TO Try: Add batch norm\n",
    "    conv_direct = Conv2D(filters, kernel, kernel_initializer=\"he_normal\", strides=strides, name=prefix + \"direct_conv\")(direct_layer)\n",
    "    # TO Try: Add batch norm\n",
    "    psi = add([conv_skip, conv_direct])\n",
    "    psi = LeakyReLU(alpha=0.001, name=prefix + \"_relu\")(psi)\n",
    "    psi = Conv2D(1, kernel, kernel_initializer=\"glorot_normal\", activation=\"sigmoid\", strides=strides, name=prefix + \"_att\")(psi)\n",
    "    return multiply([left_skip_layer, psi])\n",
    "    \n",
    "    \n"
   ]
  },
  {
   "cell_type": "code",
   "execution_count": 10,
   "metadata": {},
   "outputs": [],
   "source": [
    "def AttentionUnetModel():\n",
    "    # 3 - RGB \n",
    "    # Based on BiggerLeakyUnetModel\n",
    "    inputs = Input((img_rows, img_cols,3))\n",
    "    conv1 = Conv2D(32, (3, 3), padding=\"same\")(inputs)\n",
    "    acti1 = LeakyReLU(alpha=0.001)(conv1)\n",
    "    conv1 = Conv2D(32, (3, 3), padding=\"same\")(acti1)\n",
    "    acti1 = LeakyReLU(alpha=0.001)(conv1)\n",
    "    pool1 = MaxPooling2D(pool_size=(2, 2))(acti1)\n",
    "\n",
    "    conv2 = Conv2D(64, (3, 3), padding=\"same\")(pool1)\n",
    "    acti2 = LeakyReLU(alpha=0.001)(conv2)\n",
    "    conv2 = Conv2D(64, (3, 3), padding=\"same\")(acti2)\n",
    "    acti2 = LeakyReLU(alpha=0.001)(conv2)\n",
    "    pool2 = MaxPooling2D(pool_size=(2, 2))(acti2)\n",
    "\n",
    "    conv3 = Conv2D(128, (3, 3), padding=\"same\")(pool2)\n",
    "    acti3 = LeakyReLU(alpha=0.001)(conv3)\n",
    "    conv3 = Conv2D(128, (3, 3), padding=\"same\")(acti3)\n",
    "    acti3 = LeakyReLU(alpha=0.001)(conv3)\n",
    "    pool3 = MaxPooling2D(pool_size=(2, 2))(acti3)\n",
    "\n",
    "    conv4 = Conv2D(256, (3, 3), padding=\"same\")(pool3)\n",
    "    acti4 = LeakyReLU(alpha=0.001)(conv4)\n",
    "    conv4 = Conv2D(256, (3, 3), padding=\"same\")(acti4)\n",
    "    acti4 = LeakyReLU(alpha=0.001)(conv4)\n",
    "    pool4 = MaxPooling2D(pool_size=(2, 2))(acti4)\n",
    "\n",
    "    conv5 = Conv2D(512, (3, 3), padding=\"same\")(pool4)\n",
    "    acti5 = LeakyReLU(alpha=0.001)(conv5)\n",
    "    conv5 = Conv2D(512, (3, 3), padding=\"same\")(acti5)\n",
    "    acti5 = LeakyReLU(alpha=0.001)(conv5)\n",
    "    pool5 = MaxPooling2D(pool_size=(2, 2))(acti5)\n",
    "\n",
    "    conv6 = Conv2D(1024, (3, 3), padding=\"same\")(pool5)\n",
    "    acti6 = LeakyReLU(alpha=0.001)(conv6)\n",
    "    conv6 = Conv2D(1024, (3, 3), padding=\"same\")(acti6)\n",
    "    acti6 = LeakyReLU(alpha=0.001)(conv6)\n",
    "    pool6 = MaxPooling2D(pool_size=(2, 2))(acti6)\n",
    "    \n",
    "    conv7 = Conv2D(2048, (3, 3), padding=\"same\")(pool6)\n",
    "    acti7 = LeakyReLU(alpha=0.001)(conv7)\n",
    "    conv7 = Conv2D(2048, (3, 3), padding=\"same\")(acti7)\n",
    "    acti7 = LeakyReLU(alpha=0.001)(conv7)\n",
    "\n",
    "    right_acti7 = UpSampling2D(size=(2, 2))(acti7)\n",
    "    right_att6 = attention_block(right_acti7, acti6, 1024, \"att6\")\n",
    "    right_up6 = concatenate([right_att6, right_acti7], axis=3)\n",
    "    right_conv6 = Conv2D(1024, (3, 3), padding=\"same\")(right_up6)\n",
    "    right_acti6 = LeakyReLU(alpha=0.001)(right_conv6)\n",
    "    right_conv6 = Conv2D(1024, (3, 3), padding=\"same\")(right_acti6)\n",
    "    right_acti6 = LeakyReLU(alpha=0.001)(right_conv6)\n",
    "\n",
    "    right_acti6 = UpSampling2D(size=(2, 2))(right_acti6)\n",
    "    right_att5 = attention_block(right_acti6, acti5, 512, \"att5\")\n",
    "    right_up5 = concatenate([right_att5, right_acti6], axis=3)\n",
    "    right_conv5 = Conv2D(512, (3, 3), padding=\"same\")(right_up5)\n",
    "    right_acti5 = LeakyReLU(alpha=0.001)(right_conv5)\n",
    "    right_conv5 = Conv2D(512, (3, 3), padding=\"same\")(right_acti5)\n",
    "    right_acti5 = LeakyReLU(alpha=0.001)(right_conv5)\n",
    "\n",
    "    right_acti5 = UpSampling2D(size=(2, 2))(right_acti5)\n",
    "    right_att4 = attention_block(right_acti5, acti4, 256, \"att4\")\n",
    "    right_up4 = concatenate([right_att4, right_acti5], axis=3)\n",
    "    right_conv4 = Conv2D(256, (3, 3), padding=\"same\")(right_up4)\n",
    "    right_acti4 = LeakyReLU(alpha=0.001)(right_conv4)\n",
    "    right_conv4 = Conv2D(256, (3, 3), padding=\"same\")(right_acti4)\n",
    "    right_acti4 = LeakyReLU(alpha=0.001)(right_conv4)\n",
    "\n",
    "    right_acti4 = UpSampling2D(size=(2, 2))(right_acti4)\n",
    "    right_att3 = attention_block(right_acti4, acti3, 128, \"att3\")\n",
    "    right_up3 = concatenate([right_att3, right_acti4], axis=3)\n",
    "    right_conv3 = Conv2D(128, (3, 3), padding=\"same\")(right_up3)\n",
    "    right_acti3 = LeakyReLU(alpha=0.001)(right_conv3)\n",
    "    right_conv3 = Conv2D(128, (3, 3), padding=\"same\")(right_acti3)\n",
    "    right_acti3 = LeakyReLU(alpha=0.001)(right_conv3)\n",
    "\n",
    "    right_acti3 = UpSampling2D(size=(2, 2))(right_acti3)\n",
    "    right_att2 = attention_block(right_acti3, acti2, 64, \"att2\")\n",
    "    right_up2 = concatenate([right_att2, right_acti3], axis=3)\n",
    "    right_conv2 = Conv2D(64, (3, 3), padding=\"same\")(right_up2)\n",
    "    right_acti2 = LeakyReLU(alpha=0.001)(right_conv2)\n",
    "    right_conv2 = Conv2D(64, (3, 3), padding=\"same\")(right_acti2)\n",
    "    right_acti2 = LeakyReLU(alpha=0.001)(right_conv2)\n",
    "\n",
    "    right_acti2 = UpSampling2D(size=(2, 2))(right_acti2)\n",
    "    right_att1 = attention_block(right_acti2, acti1, 32, \"att1\")\n",
    "    right_up1 = concatenate([right_att1, right_acti2], axis=3)\n",
    "    right_conv1 = Conv2D(32, (3, 3), padding=\"same\")(right_up1)\n",
    "    right_acti1 = LeakyReLU(alpha=0.001)(right_conv1)\n",
    "    right_conv1 = Conv2D(32, (3, 3), padding=\"same\")(right_acti1)\n",
    "    right_acti1 = LeakyReLU(alpha=0.001)(right_conv1)\n",
    "\n",
    "    output = Conv2D(1, (1, 1), activation='sigmoid')(right_acti1)\n",
    "\n",
    "    model = Model(input=inputs, output=output)\n",
    "\n",
    "    model.compile(optimizer=Adam(lr=5e-5), loss=jaccard_coef_loss, metrics=[jaccard_coef])\n",
    "\n",
    "    return model"
   ]
  },
  {
   "cell_type": "code",
   "execution_count": 11,
   "metadata": {},
   "outputs": [
    {
     "name": "stdout",
     "output_type": "stream",
     "text": [
      "WARNING:tensorflow:From /udir/gwang/anaconda3/lib/python3.7/site-packages/tensorflow/python/framework/op_def_library.py:263: colocate_with (from tensorflow.python.framework.ops) is deprecated and will be removed in a future version.\n",
      "Instructions for updating:\n",
      "Colocations handled automatically by placer.\n"
     ]
    },
    {
     "name": "stderr",
     "output_type": "stream",
     "text": [
      "/udir/gwang/anaconda3/lib/python3.7/site-packages/ipykernel_launcher.py:96: UserWarning: Update your `Model` call to the Keras 2 API: `Model(inputs=Tensor(\"in..., outputs=Tensor(\"co...)`\n"
     ]
    }
   ],
   "source": [
    "#Training data generation\n",
    "data_gen_args = dict(\n",
    "#    samplewise_center = True,\n",
    "#    samplewise_std_normalization = True,\n",
    "    rotation_range=180,\n",
    "    width_shift_range=0.05,\n",
    "    height_shift_range=0.05,\n",
    "    shear_range=0.05,\n",
    "    zoom_range=0.05,\n",
    "    horizontal_flip=True,\n",
    "    vertical_flip = True,\n",
    "    fill_mode='nearest')\n",
    "\n",
    "#Validation data generation\n",
    "data_val_gen_args = dict(\n",
    "    #samplewise_center = True,\n",
    "    #samplewise_std_normalization = True\n",
    "    )\n",
    "\n",
    "#Create UNet Model\n",
    "#model = FullUnetModel()\n",
    "#model = UnetModel()\n",
    "model = AttentionUnetModel()"
   ]
  },
  {
   "cell_type": "code",
   "execution_count": 12,
   "metadata": {},
   "outputs": [],
   "source": [
    "#Setup generator\n",
    "batch_size = 2\n",
    "\n",
    "myGene = trainGenerator(batch_size,'data/train','images','masks',data_gen_args)\n",
    "myValGene = validationGenerator(batch_size,'data/val','images','masks',data_val_gen_args)\n",
    "\n",
    "#Setup Checkpoint to only capture best estimate\n",
    "model_checkpoint = ModelCheckpoint('attention_unet_lesion.hdf5', monitor='loss',verbose=1, save_best_only=True)\n",
    "\n",
    "#Enable tensorboard\n",
    "tensorBoard = TensorBoard(\n",
    "    log_dir='./logs', \n",
    "    histogram_freq=0, \n",
    "    batch_size=batch_size, \n",
    "    write_graph=True, \n",
    "    write_grads=False, \n",
    "    write_images=True, \n",
    "    embeddings_freq=0)\n"
   ]
  },
  {
   "cell_type": "code",
   "execution_count": null,
   "metadata": {
    "scrolled": true
   },
   "outputs": [
    {
     "name": "stdout",
     "output_type": "stream",
     "text": [
      "Epoch 1/100\n",
      "Found 518 images belonging to 1 classes.Found 1556 images belonging to 1 classes.\n",
      "\n",
      "Found 1556 images belonging to 1 classes.\n",
      "Found 518 images belonging to 1 classes.\n",
      "600/600 [==============================] - 349s 582ms/step - loss: -0.4477 - jaccard_coef: 0.4477 - val_loss: -0.5349 - val_jaccard_coef: 0.5349\n",
      "\n",
      "Epoch 00001: loss improved from inf to -0.44765, saving model to attention_unet_lesion.hdf5\n",
      "Epoch 2/100\n",
      "600/600 [==============================] - 371s 619ms/step - loss: -0.5941 - jaccard_coef: 0.5941 - val_loss: -0.6432 - val_jaccard_coef: 0.6432\n",
      "\n",
      "Epoch 00002: loss improved from -0.44765 to -0.59405, saving model to attention_unet_lesion.hdf5\n",
      "Epoch 3/100\n",
      "600/600 [==============================] - 345s 576ms/step - loss: -0.6250 - jaccard_coef: 0.6250 - val_loss: -0.6589 - val_jaccard_coef: 0.6589\n",
      "\n",
      "Epoch 00003: loss improved from -0.59405 to -0.62495, saving model to attention_unet_lesion.hdf5\n",
      "Epoch 4/100\n",
      "600/600 [==============================] - 356s 594ms/step - loss: -0.6688 - jaccard_coef: 0.6688 - val_loss: -0.7255 - val_jaccard_coef: 0.7255\n",
      "\n",
      "Epoch 00004: loss improved from -0.62495 to -0.66885, saving model to attention_unet_lesion.hdf5\n",
      "Epoch 5/100\n",
      "600/600 [==============================] - 348s 581ms/step - loss: -0.6911 - jaccard_coef: 0.6911 - val_loss: -0.7246 - val_jaccard_coef: 0.7246\n",
      "\n",
      "Epoch 00005: loss improved from -0.66885 to -0.69112, saving model to attention_unet_lesion.hdf5\n",
      "Epoch 6/100\n",
      "600/600 [==============================] - 356s 594ms/step - loss: -0.7124 - jaccard_coef: 0.7124 - val_loss: -0.6661 - val_jaccard_coef: 0.6661\n",
      "\n",
      "Epoch 00006: loss improved from -0.69112 to -0.71241, saving model to attention_unet_lesion.hdf5\n",
      "Epoch 7/100\n",
      "600/600 [==============================] - 352s 586ms/step - loss: -0.7000 - jaccard_coef: 0.7000 - val_loss: -0.7111 - val_jaccard_coef: 0.7111\n",
      "\n",
      "Epoch 00007: loss did not improve from -0.71241\n",
      "Epoch 8/100\n",
      "600/600 [==============================] - 349s 582ms/step - loss: -0.7168 - jaccard_coef: 0.7168 - val_loss: -0.7248 - val_jaccard_coef: 0.7248\n",
      "\n",
      "Epoch 00008: loss improved from -0.71241 to -0.71680, saving model to attention_unet_lesion.hdf5\n",
      "Epoch 9/100\n",
      "600/600 [==============================] - 351s 585ms/step - loss: -0.7147 - jaccard_coef: 0.7147 - val_loss: -0.7402 - val_jaccard_coef: 0.7402\n",
      "\n",
      "Epoch 00009: loss did not improve from -0.71680\n",
      "Epoch 10/100\n",
      "600/600 [==============================] - 352s 587ms/step - loss: -0.7141 - jaccard_coef: 0.7141 - val_loss: -0.7226 - val_jaccard_coef: 0.7226\n",
      "\n",
      "Epoch 00010: loss did not improve from -0.71680\n",
      "Epoch 11/100\n",
      "600/600 [==============================] - 359s 598ms/step - loss: -0.7483 - jaccard_coef: 0.7483 - val_loss: -0.7432 - val_jaccard_coef: 0.7432\n",
      "\n",
      "Epoch 00011: loss improved from -0.71680 to -0.74829, saving model to attention_unet_lesion.hdf5\n",
      "Epoch 12/100\n",
      "600/600 [==============================] - 340s 567ms/step - loss: -0.7190 - jaccard_coef: 0.7190 - val_loss: -0.7516 - val_jaccard_coef: 0.7516\n",
      "\n",
      "Epoch 00012: loss did not improve from -0.74829\n",
      "Epoch 13/100\n",
      "600/600 [==============================] - 364s 607ms/step - loss: -0.7313 - jaccard_coef: 0.7313 - val_loss: -0.7477 - val_jaccard_coef: 0.7477\n",
      "\n",
      "Epoch 00013: loss did not improve from -0.74829\n",
      "Epoch 14/100\n",
      "537/600 [=========================>....] - ETA: 27s - loss: -0.7386 - jaccard_coef: 0.7386"
     ]
    }
   ],
   "source": [
    "\n",
    "#Train\n",
    "history = model.fit_generator(\n",
    "    myGene,\n",
    "    steps_per_epoch = 600, \n",
    "    epochs=100,\n",
    "    callbacks=[model_checkpoint,tensorBoard],\n",
    "    validation_data=myValGene,\n",
    "    validation_steps=200)"
   ]
  },
  {
   "cell_type": "code",
   "execution_count": 15,
   "metadata": {},
   "outputs": [
    {
     "data": {
      "text/plain": [
       "'\\nhistory2 = model.fit_generator(\\n    myGene,\\n    steps_per_epoch = 1000, \\n    epochs=100,\\n    callbacks=[model_checkpoint,tensorBoard], \\n    initial_epoch = 125,\\n    validation_data=myValGene,\\n    validation_steps=200)\\n'"
      ]
     },
     "execution_count": 15,
     "metadata": {},
     "output_type": "execute_result"
    }
   ],
   "source": [
    "#Continue traing\n",
    "#Use initial_epoch \n",
    "'''\n",
    "history2 = model.fit_generator(\n",
    "    myGene,\n",
    "    steps_per_epoch = 1000, \n",
    "    epochs=100,\n",
    "    callbacks=[model_checkpoint,tensorBoard], \n",
    "    initial_epoch = 125,\n",
    "    validation_data=myValGene,\n",
    "    validation_steps=200)\n",
    "'''"
   ]
  },
  {
   "cell_type": "code",
   "execution_count": 16,
   "metadata": {},
   "outputs": [
    {
     "data": {
      "image/png": "[encoded data removed]",
      "text/plain": [
       "<Figure size 432x288 with 1 Axes>"
      ]
     },
     "metadata": {
      "needs_background": "light"
     },
     "output_type": "display_data"
    },
    {
     "data": {
      "image/png": "[encoded data removed]",
      "text/plain": [
       "<Figure size 432x288 with 1 Axes>"
      ]
     },
     "metadata": {
      "needs_background": "light"
     },
     "output_type": "display_data"
    }
   ],
   "source": [
    "# Plot training & validation accuracy values\n",
    "print (history.history['val_loss'])\n",
    "plt.plot(history.history['jaccard_coef'])\n",
    "plt.plot(history.history['val_jaccard_coef'])\n",
    "plt.title('Coefficiency')\n",
    "plt.ylabel('Coefficiency')\n",
    "plt.xlabel('Epoch')\n",
    "plt.legend(['Train'], loc='upper left')\n",
    "plt.legend(['Validation'], loc='upper left')\n",
    "plt.show()\n",
    "\n",
    "# Plot training & validation loss values\n",
    "plt.plot(history.history['loss'])\n",
    "plt.plot(history.history['val_loss'])\n",
    "plt.title('Model loss')\n",
    "plt.ylabel('Loss')\n",
    "plt.xlabel('Epoch')\n",
    "plt.legend(['Train', 'Validation'], loc='upper left')\n",
    "plt.show()"
   ]
  },
  {
   "cell_type": "code",
   "execution_count": null,
   "metadata": {
    "scrolled": true
   },
   "outputs": [],
   "source": [
    "file_names = next(os.walk(test_data_dir))[2]\n",
    "\n",
    "model = AttentionUnetModel()\n",
    "model.load_weights(\"attention_unet_lesion.hdf5\")"
   ]
  },
  {
   "cell_type": "code",
   "execution_count": null,
   "metadata": {},
   "outputs": [],
   "source": [
    "help(model)"
   ]
  },
  {
   "cell_type": "code",
   "execution_count": null,
   "metadata": {},
   "outputs": [],
   "source": [
    "file_names = next(os.walk(test_data_dir))[2]\n",
    "\n",
    "model = AttentionUnetModel()\n",
    "model.load_weights(\"attention_unet_lesion.hdf5\")\n",
    "\n",
    "\n",
    "for file in file_names:\n",
    "    print(file)\n",
    "    grey_img = load_img(os.path.join(test_data_dir,file), target_size=(img_rows, img_cols), grayscale=True)\n",
    "    img = img_to_array(grey_img)\n",
    "    mean = np.mean(img)  # mean for data centering\n",
    "    std = np.std(img)  # std for data normalization\n",
    "    img -= mean\n",
    "    img /= std\n",
    "    img = np.reshape(img,(1,)+img.shape)\n",
    "    results = model.predict(img)\n",
    "\n",
    "    result_img = array_to_img(results[0] * 255 )\n",
    "    #plt.imshow(result_img)\n",
    "    result_img.save(os.path.join(test_data_pred_dir, file.split('.')[0] + '_predict.jpg'))"
   ]
  },
  {
   "cell_type": "code",
   "execution_count": null,
   "metadata": {},
   "outputs": [],
   "source": [
    "model.summary()"
   ]
  },
  {
   "cell_type": "code",
   "execution_count": null,
   "metadata": {},
   "outputs": [],
   "source": [
    "file_names = next(os.walk(test_data_dir))[2]\n",
    "image = file_names[0]\n",
    "fig = plt.figure()\n",
    "\n",
    "a = fig.add_subplot(1, 4, 1)\n",
    "imgplot = plt.imshow(load_img(os.path.join(test_data_dir,image)), shape = (256,256))\n",
    "a.set_title('Image')\n",
    "a.set_axis_off()\n",
    "\n",
    "a = fig.add_subplot(1, 4, 2)\n",
    "imgplot = plt.imshow(load_img(os.path.join(test_data_mask_dir,image.split('.')[0]+\"_segmentation.png\")), shape = (256,256))\n",
    "a.set_title('Mask')\n",
    "a.set_axis_off()\n",
    "\n",
    "a = fig.add_subplot(1, 4, 3)\n",
    "imgplot = plt.imshow(load_img(os.path.join(test_data_pred_dir,image.split('.')[0]+\"_predict.jpg\")), shape = (256,256))\n",
    "a.set_title('Prediction')\n",
    "a.set_axis_off()"
   ]
  },
  {
   "cell_type": "code",
   "execution_count": null,
   "metadata": {},
   "outputs": [],
   "source": [
    "african_e66lephant_output = model.output[:, 386]                          \n",
    "\n",
    "last_conv_layer = model.get_layer('block5_conv3')                         \n",
    "\n",
    "grads = K.gradients(african_elephant_output, last_conv_layer.output)[0]   \n",
    "\n",
    "pooled_grads = K.mean(grads, axis=(0, 1, 2))                              \n",
    "\n",
    "iterate = K.function([model.input],\n",
    "                     [pooled_grads, last_conv_layer.output[0]])           \n",
    "\n",
    "pooled_grads_value, conv_layer_output_value = iterate([x])                \n",
    "\n",
    "for i in range(512):                                                      \n",
    "    conv_layer_output_value[:, :, i] *= pooled_grads_value[i]             \n",
    "\n",
    "heatmap = np.mean(conv_layer_output_value, axis=-1)                       "
   ]
  },
  {
   "cell_type": "code",
   "execution_count": null,
   "metadata": {},
   "outputs": [],
   "source": [
    "model.output"
   ]
  },
  {
   "cell_type": "code",
   "execution_count": null,
   "metadata": {},
   "outputs": [],
   "source": [
    "help(model)"
   ]
  },
  {
   "cell_type": "code",
   "execution_count": null,
   "metadata": {},
   "outputs": [],
   "source": []
  }
 ],
 "metadata": {
  "kernelspec": {
   "display_name": "Python 3",
   "language": "python",
   "name": "python3"
  },
  "language_info": {
   "codemirror_mode": {
    "name": "ipython",
    "version": 3
   },
   "file_extension": ".py",
   "mimetype": "text/x-python",
   "name": "python",
   "nbconvert_exporter": "python",
   "pygments_lexer": "ipython3",
   "version": "3.7.3"
  }
 },
 "nbformat": 4,
 "nbformat_minor": 2
}
